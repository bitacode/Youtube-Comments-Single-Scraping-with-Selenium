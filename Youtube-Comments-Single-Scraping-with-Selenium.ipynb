{
 "cells": [
  {
   "cell_type": "markdown",
   "id": "7463a162",
   "metadata": {},
   "source": [
    "# Importing libraries"
   ]
  },
  {
   "cell_type": "code",
   "execution_count": 1,
   "id": "9f7b3fd6",
   "metadata": {},
   "outputs": [],
   "source": [
    "from selenium import webdriver\n",
    "from selenium.webdriver.edge.service import Service\n",
    "from webdriver_manager.microsoft import EdgeChromiumDriverManager\n",
    "from bs4 import BeautifulSoup\n",
    "import time\n",
    "import pandas as pd"
   ]
  },
  {
   "cell_type": "markdown",
   "id": "e9cb9660",
   "metadata": {},
   "source": [
    "# Defining URL variable with selenium"
   ]
  },
  {
   "cell_type": "code",
   "execution_count": 2,
   "id": "25b4a8fc",
   "metadata": {},
   "outputs": [
    {
     "name": "stderr",
     "output_type": "stream",
     "text": [
      "[WDM] - Downloading: 100%|████████████████████████████████████████████████████████| 8.85M/8.85M [00:05<00:00, 1.68MB/s]\n"
     ]
    }
   ],
   "source": [
    "options = webdriver.EdgeOptions()\n",
    "service = Service(EdgeChromiumDriverManager().install())\n",
    "options.add_argument('--headless')\n",
    "driver = webdriver.Edge(service=service, options=options) \n",
    "driver.get('https://www.youtube.com/watch?v=yiTs7bxUc-s')"
   ]
  },
  {
   "cell_type": "markdown",
   "id": "0528d469",
   "metadata": {},
   "source": [
    "# Opening infinite scroll"
   ]
  },
  {
   "cell_type": "code",
   "execution_count": 3,
   "id": "62dd568f",
   "metadata": {},
   "outputs": [],
   "source": [
    "prev_h = 0\n",
    "while True:\n",
    "    height = driver.execute_script(\"\"\"\n",
    "            function getActualHeight() {\n",
    "                return Math.max(\n",
    "                    Math.max(document.body.scrollHeight, document.documentElement.scrollHeight),\n",
    "                    Math.max(document.body.offsetHeight, document.documentElement.offsetHeight),\n",
    "                    Math.max(document.body.clientHeight, document.documentElement.clientHeight)\n",
    "                )\n",
    "            }\n",
    "            return getActualHeight();\n",
    "        \"\"\")\n",
    "    driver.execute_script(f\"window.scrollTo({prev_h},{prev_h + 200})\")\n",
    "    time.sleep(1)\n",
    "    prev_h +=200  \n",
    "    if prev_h >= height:\n",
    "        break"
   ]
  },
  {
   "cell_type": "markdown",
   "id": "dfacda8a",
   "metadata": {},
   "source": [
    "# Scraping data"
   ]
  },
  {
   "cell_type": "code",
   "execution_count": 4,
   "id": "cf3080b3",
   "metadata": {},
   "outputs": [],
   "source": [
    "soup = BeautifulSoup(driver.page_source, 'html.parser')\n",
    "driver.quit()"
   ]
  },
  {
   "cell_type": "code",
   "execution_count": 5,
   "id": "10525933",
   "metadata": {},
   "outputs": [],
   "source": [
    "movie_id = []\n",
    "movie_title = []\n",
    "user_rating = []\n",
    "review_title = []\n",
    "user_name = []\n",
    "movie_review = []"
   ]
  },
  {
   "cell_type": "code",
   "execution_count": 6,
   "id": "691ebfd9",
   "metadata": {},
   "outputs": [],
   "source": [
    "movieid = 'yiTs7bxUc'\n",
    "urating = 'null'\n",
    "rtitle = 'null'"
   ]
  },
  {
   "cell_type": "code",
   "execution_count": 7,
   "id": "e1eab84e",
   "metadata": {},
   "outputs": [],
   "source": [
    "comment_div = soup.select(\"#content #content-text\")\n",
    "\n",
    "for comment in comment_div:\n",
    "    comment_list = comment.text.replace('\\n', '')\n",
    "    movie_review.append(comment_list)"
   ]
  },
  {
   "cell_type": "code",
   "execution_count": 8,
   "id": "0b6d53c2",
   "metadata": {},
   "outputs": [],
   "source": [
    "username_div = soup.select('#author-text span')\n",
    "\n",
    "for username in username_div:\n",
    "    username_list = username.text.replace('\\n', '').replace(' ', '')\n",
    "    user_name.append(username_list)"
   ]
  },
  {
   "cell_type": "code",
   "execution_count": 9,
   "id": "5466ac35",
   "metadata": {},
   "outputs": [],
   "source": [
    "title_text_div = soup.select_one('#title h1')\n",
    "title = title_text_div and title_text_div.text.replace(' | Trailer Resmi | Netflix', '').replace('\\n', '')"
   ]
  },
  {
   "cell_type": "code",
   "execution_count": 10,
   "id": "774502eb",
   "metadata": {},
   "outputs": [],
   "source": [
    "movie_id.append(movieid)\n",
    "user_rating.append(urating)\n",
    "review_title.append(rtitle)\n",
    "movie_title.append(title)"
   ]
  },
  {
   "cell_type": "code",
   "execution_count": 11,
   "id": "249aa382",
   "metadata": {},
   "outputs": [],
   "source": [
    "length = len(comment_div)\n",
    "\n",
    "title_of_movie = movie_title * length\n",
    "id_of_movie = movie_id * length\n",
    "review_title_of_movie = review_title * length\n",
    "user_rating_of_movie = user_rating * length"
   ]
  },
  {
   "cell_type": "code",
   "execution_count": 12,
   "id": "e53b47f3",
   "metadata": {},
   "outputs": [],
   "source": [
    "movie_DF = pd.DataFrame({'Movie ID': id_of_movie, 'Movie Title': title_of_movie, 'User Rating': user_rating_of_movie, 'Review Title': review_title_of_movie, 'Username': user_name, 'Review': movie_review})"
   ]
  },
  {
   "cell_type": "code",
   "execution_count": 13,
   "id": "9d1b8299",
   "metadata": {},
   "outputs": [
    {
     "data": {
      "text/html": [
       "<div>\n",
       "<style scoped>\n",
       "    .dataframe tbody tr th:only-of-type {\n",
       "        vertical-align: middle;\n",
       "    }\n",
       "\n",
       "    .dataframe tbody tr th {\n",
       "        vertical-align: top;\n",
       "    }\n",
       "\n",
       "    .dataframe thead th {\n",
       "        text-align: right;\n",
       "    }\n",
       "</style>\n",
       "<table border=\"1\" class=\"dataframe\">\n",
       "  <thead>\n",
       "    <tr style=\"text-align: right;\">\n",
       "      <th></th>\n",
       "      <th>Movie ID</th>\n",
       "      <th>Movie Title</th>\n",
       "      <th>User Rating</th>\n",
       "      <th>Review Title</th>\n",
       "      <th>Username</th>\n",
       "      <th>Review</th>\n",
       "    </tr>\n",
       "  </thead>\n",
       "  <tbody>\n",
       "    <tr>\n",
       "      <th>0</th>\n",
       "      <td>yiTs7bxUc</td>\n",
       "      <td>The Big 4</td>\n",
       "      <td>null</td>\n",
       "      <td>null</td>\n",
       "      <td>DennisDelacruz</td>\n",
       "      <td>This was an awesome film. As a Filipino, I hea...</td>\n",
       "    </tr>\n",
       "    <tr>\n",
       "      <th>1</th>\n",
       "      <td>yiTs7bxUc</td>\n",
       "      <td>The Big 4</td>\n",
       "      <td>null</td>\n",
       "      <td>null</td>\n",
       "      <td>KletingMerah</td>\n",
       "      <td>Ya ampun Lutesha aktingnya keren banget sih! A...</td>\n",
       "    </tr>\n",
       "    <tr>\n",
       "      <th>2</th>\n",
       "      <td>yiTs7bxUc</td>\n",
       "      <td>The Big 4</td>\n",
       "      <td>null</td>\n",
       "      <td>null</td>\n",
       "      <td>MJLockey</td>\n",
       "      <td>Kalo film original netflix begini udah pasti g...</td>\n",
       "    </tr>\n",
       "    <tr>\n",
       "      <th>3</th>\n",
       "      <td>yiTs7bxUc</td>\n",
       "      <td>The Big 4</td>\n",
       "      <td>null</td>\n",
       "      <td>null</td>\n",
       "      <td>FabulousWorld</td>\n",
       "      <td>Indonesians are just sooooo good actors, incre...</td>\n",
       "    </tr>\n",
       "    <tr>\n",
       "      <th>4</th>\n",
       "      <td>yiTs7bxUc</td>\n",
       "      <td>The Big 4</td>\n",
       "      <td>null</td>\n",
       "      <td>null</td>\n",
       "      <td>Opicksutradara</td>\n",
       "      <td>Sumpah ini lutesha akting nya parah bgt  wajib...</td>\n",
       "    </tr>\n",
       "    <tr>\n",
       "      <th>...</th>\n",
       "      <td>...</td>\n",
       "      <td>...</td>\n",
       "      <td>...</td>\n",
       "      <td>...</td>\n",
       "      <td>...</td>\n",
       "      <td>...</td>\n",
       "    </tr>\n",
       "    <tr>\n",
       "      <th>238</th>\n",
       "      <td>yiTs7bxUc</td>\n",
       "      <td>The Big 4</td>\n",
       "      <td>null</td>\n",
       "      <td>null</td>\n",
       "      <td>AzizSatriawan</td>\n",
       "      <td>BadAss ...</td>\n",
       "    </tr>\n",
       "    <tr>\n",
       "      <th>239</th>\n",
       "      <td>yiTs7bxUc</td>\n",
       "      <td>The Big 4</td>\n",
       "      <td>null</td>\n",
       "      <td>null</td>\n",
       "      <td>naonaoo</td>\n",
       "      <td>Suranto</td>\n",
       "    </tr>\n",
       "    <tr>\n",
       "      <th>240</th>\n",
       "      <td>yiTs7bxUc</td>\n",
       "      <td>The Big 4</td>\n",
       "      <td>null</td>\n",
       "      <td>null</td>\n",
       "      <td>SwastayangSipil</td>\n",
       "      <td>Ute luvv</td>\n",
       "    </tr>\n",
       "    <tr>\n",
       "      <th>241</th>\n",
       "      <td>yiTs7bxUc</td>\n",
       "      <td>The Big 4</td>\n",
       "      <td>null</td>\n",
       "      <td>null</td>\n",
       "      <td>hendrikohendrasaputra</td>\n",
       "      <td>Suratno</td>\n",
       "    </tr>\n",
       "    <tr>\n",
       "      <th>242</th>\n",
       "      <td>yiTs7bxUc</td>\n",
       "      <td>The Big 4</td>\n",
       "      <td>null</td>\n",
       "      <td>null</td>\n",
       "      <td>aaaaaaaaaaaaaaaaaaaaaaaaaargh</td>\n",
       "      <td>lucifart</td>\n",
       "    </tr>\n",
       "  </tbody>\n",
       "</table>\n",
       "<p>243 rows × 6 columns</p>\n",
       "</div>"
      ],
      "text/plain": [
       "      Movie ID Movie Title User Rating Review Title  \\\n",
       "0    yiTs7bxUc   The Big 4        null         null   \n",
       "1    yiTs7bxUc   The Big 4        null         null   \n",
       "2    yiTs7bxUc   The Big 4        null         null   \n",
       "3    yiTs7bxUc   The Big 4        null         null   \n",
       "4    yiTs7bxUc   The Big 4        null         null   \n",
       "..         ...         ...         ...          ...   \n",
       "238  yiTs7bxUc   The Big 4        null         null   \n",
       "239  yiTs7bxUc   The Big 4        null         null   \n",
       "240  yiTs7bxUc   The Big 4        null         null   \n",
       "241  yiTs7bxUc   The Big 4        null         null   \n",
       "242  yiTs7bxUc   The Big 4        null         null   \n",
       "\n",
       "                          Username  \\\n",
       "0                   DennisDelacruz   \n",
       "1                     KletingMerah   \n",
       "2                         MJLockey   \n",
       "3                    FabulousWorld   \n",
       "4                   Opicksutradara   \n",
       "..                             ...   \n",
       "238                  AzizSatriawan   \n",
       "239                        naonaoo   \n",
       "240                SwastayangSipil   \n",
       "241          hendrikohendrasaputra   \n",
       "242  aaaaaaaaaaaaaaaaaaaaaaaaaargh   \n",
       "\n",
       "                                                Review  \n",
       "0    This was an awesome film. As a Filipino, I hea...  \n",
       "1    Ya ampun Lutesha aktingnya keren banget sih! A...  \n",
       "2    Kalo film original netflix begini udah pasti g...  \n",
       "3    Indonesians are just sooooo good actors, incre...  \n",
       "4    Sumpah ini lutesha akting nya parah bgt  wajib...  \n",
       "..                                                 ...  \n",
       "238                                         BadAss ...  \n",
       "239                                            Suranto  \n",
       "240                                           Ute luvv  \n",
       "241                                            Suratno  \n",
       "242                                           lucifart  \n",
       "\n",
       "[243 rows x 6 columns]"
      ]
     },
     "execution_count": 13,
     "metadata": {},
     "output_type": "execute_result"
    }
   ],
   "source": [
    "movie_DF"
   ]
  },
  {
   "cell_type": "markdown",
   "id": "c36cb31d",
   "metadata": {},
   "source": [
    "# Save data as excel file"
   ]
  },
  {
   "cell_type": "code",
   "execution_count": null,
   "id": "fe59cf59",
   "metadata": {},
   "outputs": [],
   "source": [
    "movie_DF.to_excel('./Movie Reviews/xlsx/Youtube/'+movieid+'.xlsx')"
   ]
  },
  {
   "cell_type": "markdown",
   "id": "d9da8f58",
   "metadata": {},
   "source": [
    "# Save data as csv file"
   ]
  },
  {
   "cell_type": "code",
   "execution_count": null,
   "id": "ef83a513",
   "metadata": {},
   "outputs": [],
   "source": [
    "movie_DF.to_csv('./Movie Reviews/csv/Youtube/'+movieid+'.csv')"
   ]
  },
  {
   "cell_type": "code",
   "execution_count": null,
   "id": "a8054244",
   "metadata": {},
   "outputs": [],
   "source": []
  }
 ],
 "metadata": {
  "kernelspec": {
   "display_name": "Python 3 (ipykernel)",
   "language": "python",
   "name": "python3"
  },
  "language_info": {
   "codemirror_mode": {
    "name": "ipython",
    "version": 3
   },
   "file_extension": ".py",
   "mimetype": "text/x-python",
   "name": "python",
   "nbconvert_exporter": "python",
   "pygments_lexer": "ipython3",
   "version": "3.9.12"
  }
 },
 "nbformat": 4,
 "nbformat_minor": 5
}
